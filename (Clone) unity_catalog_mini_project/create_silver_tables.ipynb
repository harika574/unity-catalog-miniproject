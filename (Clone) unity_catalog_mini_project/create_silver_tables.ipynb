{
 "cells": [
  {
   "cell_type": "code",
   "execution_count": 0,
   "metadata": {
    "application/vnd.databricks.v1+cell": {
     "cellMetadata": {
      "byteLimit": 2048000,
      "rowLimit": 10000
     },
     "inputWidgets": {},
     "nuid": "3de25f43-f341-43e8-bca9-33d4aaa5cf62",
     "showTitle": false,
     "tableResultSettingsMap": {},
     "title": ""
    }
   },
   "outputs": [],
   "source": [
    "DROP TABLE IF EXISTS harika.silver.drivers;\n",
    "\n",
    "CREATE TABLE IF NOT EXISTS harika.silver.drivers\n",
    "AS\n",
    "SELECT driverId AS driver_id,\n",
    "      driverRef AS driver_ref,\n",
    "      number,\n",
    "      code,\n",
    "      concat(name.forename, '', name.surname) AS name,\n",
    "      dob,\n",
    "      nationality,\n",
    "      current_timestamp() AS ingestion_date\n",
    "FROM harika.bronze.drivers;"
   ]
  },
  {
   "cell_type": "code",
   "execution_count": 0,
   "metadata": {
    "application/vnd.databricks.v1+cell": {
     "cellMetadata": {
      "byteLimit": 2048000,
      "rowLimit": 10000
     },
     "inputWidgets": {},
     "nuid": "f29ab747-4ef7-49dd-8123-e290bc51be39",
     "showTitle": false,
     "tableResultSettingsMap": {},
     "title": ""
    }
   },
   "outputs": [],
   "source": [
    "DROP TABLE IF EXISTS harika.silver.results;\n",
    "\n",
    "CREATE TABLE IF NOT EXISTS harika.silver.results\n",
    "AS\n",
    "SELECT resultId AS result_id,\n",
    "       raceId AS race_id,\n",
    "       driverId AS driver_id,\n",
    "       constructorId AS constructor_id,\n",
    "       number,\n",
    "       grid,\n",
    "       position,\n",
    "       positionText AS position_text,\n",
    "       positionOrder AS position_order,\n",
    "       points,\n",
    "       laps,\n",
    "       time,\n",
    "       milliseconds,\n",
    "       fastestLap AS fastest_lap,\n",
    "       rank,\n",
    "       fastestLapTime AS fastest_lap_time,\n",
    "       fastestLapSpeed AS fastest_lap_speed,\n",
    "       statusId AS status_id,\n",
    "       current_timestamp() AS ingestion_date\n",
    "FROM harika.bronze.results;"
   ]
  }
 ],
 "metadata": {
  "application/vnd.databricks.v1+notebook": {
   "computePreferences": null,
   "dashboards": [],
   "environmentMetadata": {
    "base_environment": "",
    "client": "1"
   },
   "language": "sql",
   "notebookMetadata": {
    "pythonIndentUnit": 4
   },
   "notebookName": "create_silver_tables",
   "widgets": {}
  },
  "language_info": {
   "name": "sql"
  }
 },
 "nbformat": 4,
 "nbformat_minor": 0
}
