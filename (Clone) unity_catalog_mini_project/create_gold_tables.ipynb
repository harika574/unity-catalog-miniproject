{
 "cells": [
  {
   "cell_type": "code",
   "execution_count": 0,
   "metadata": {
    "application/vnd.databricks.v1+cell": {
     "cellMetadata": {
      "byteLimit": 2048000,
      "rowLimit": 10000
     },
     "inputWidgets": {},
     "nuid": "b9b12311-4f02-47d3-a43e-4d0b7fce0edc",
     "showTitle": false,
     "tableResultSettingsMap": {},
     "title": ""
    }
   },
   "outputs": [],
   "source": [
    "DROP TABLE IF EXISTS harika.gold.driver_wins;\n",
    "\n",
    "CREATE TABLE harika.gold.driver_wins\n",
    "AS\n",
    "SELECT d.name, count(1) AS number_of_wins\n",
    "  FROM harika.silver.drivers d\n",
    "  JOIN harika.silver.results r\n",
    "    ON (d.driver_id = r.driver_id)\n",
    "  WHERE r.position = 1\n",
    "GROUP BY d.name;\n",
    "\n",
    "--SELECT * FROM harika.gold.driver_wins ORDER BY number_of_wins DESC;"
   ]
  },
  {
   "cell_type": "code",
   "execution_count": 0,
   "metadata": {
    "application/vnd.databricks.v1+cell": {
     "cellMetadata": {
      "byteLimit": 2048000,
      "rowLimit": 10000
     },
     "inputWidgets": {},
     "nuid": "fcc47a58-6e9d-4c94-a999-5bf43b86c79d",
     "showTitle": false,
     "tableResultSettingsMap": {},
     "title": ""
    }
   },
   "outputs": [],
   "source": [
    "select * from harika.gold.driver_wins order by number_of_wins desc;"
   ]
  }
 ],
 "metadata": {
  "application/vnd.databricks.v1+notebook": {
   "computePreferences": null,
   "dashboards": [],
   "environmentMetadata": {
    "base_environment": "",
    "client": "1"
   },
   "language": "sql",
   "notebookMetadata": {},
   "notebookName": "create_gold_tables",
   "widgets": {}
  },
  "language_info": {
   "name": "sql"
  }
 },
 "nbformat": 4,
 "nbformat_minor": 0
}
