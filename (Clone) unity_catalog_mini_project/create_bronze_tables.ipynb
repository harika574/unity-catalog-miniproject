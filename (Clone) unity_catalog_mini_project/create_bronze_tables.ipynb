{
 "cells": [
  {
   "cell_type": "code",
   "execution_count": 0,
   "metadata": {
    "application/vnd.databricks.v1+cell": {
     "cellMetadata": {
      "byteLimit": 2048000,
      "rowLimit": 10000
     },
     "inputWidgets": {},
     "nuid": "57915fc3-dbf3-4d7b-9065-e9ca1fee4fa5",
     "showTitle": false,
     "tableResultSettingsMap": {},
     "title": ""
    }
   },
   "outputs": [],
   "source": [
    "refresh harika.bronze"
   ]
  },
  {
   "cell_type": "code",
   "execution_count": 0,
   "metadata": {
    "application/vnd.databricks.v1+cell": {
     "cellMetadata": {
      "byteLimit": 2048000,
      "rowLimit": 10000
     },
     "inputWidgets": {},
     "nuid": "dffa74a9-ebc9-4b3e-9043-11fbafd12ec2",
     "showTitle": false,
     "tableResultSettingsMap": {},
     "title": ""
    }
   },
   "outputs": [],
   "source": [
    "DROP TABLE IF EXISTS harika.bronze.drivers;\n",
    "\n",
    "CREATE TABLE IF NOT EXISTS harika.bronze.drivers\n",
    "(\n",
    "  driverId INT,\n",
    "  driverRef STRING,\n",
    "  number INT,\n",
    "  code STRING,\n",
    "  name STRUCT<forename: STRING, surname: STRING>,\n",
    "  dob DATE,\n",
    "  nationality STRING,\n",
    "  url STRING\n",
    ") USING JSON\n",
    "OPTIONS (path 'abfss://bronze@externalstorage1271.dfs.core.windows.net/drivers.json')"
   ]
  },
  {
   "cell_type": "code",
   "execution_count": 0,
   "metadata": {
    "application/vnd.databricks.v1+cell": {
     "cellMetadata": {
      "byteLimit": 2048000,
      "rowLimit": 10000
     },
     "inputWidgets": {},
     "nuid": "949fdb0f-8479-4a19-bf6c-9be21e0ae404",
     "showTitle": false,
     "tableResultSettingsMap": {},
     "title": ""
    }
   },
   "outputs": [],
   "source": [
    "DROP TABLE IF EXISTS harika.bronze.results;\n",
    "\n",
    "CREATE TABLE harika.bronze.results\n",
    "(\n",
    "  resultId INT,\n",
    "  raceId INT,\n",
    "  driverId INT,\n",
    "  constructorId INT,\n",
    "  number INT,\n",
    "  grid INT,\n",
    "  position INT,\n",
    "  positionText STRING,\n",
    "  positionOrder INT,\n",
    "  points INT,\n",
    "  laps INT,\n",
    "  time STRING,\n",
    "  milliseconds INT,\n",
    "  fastestLap INT,\n",
    "  rank INT,\n",
    "  fastestLapTime STRING,\n",
    "  fastestLapSpeed FLOAT,\n",
    "  statusId STRING\n",
    ")\n",
    "USING json\n",
    "OPTIONS (path 'abfss://bronze@externalstorage1271.dfs.core.windows.net/results.json');"
   ]
  }
 ],
 "metadata": {
  "application/vnd.databricks.v1+notebook": {
   "computePreferences": null,
   "dashboards": [],
   "environmentMetadata": {
    "base_environment": "",
    "client": "1"
   },
   "language": "sql",
   "notebookMetadata": {
    "pythonIndentUnit": 4
   },
   "notebookName": "create_bronze_tables",
   "widgets": {}
  },
  "language_info": {
   "name": "sql"
  }
 },
 "nbformat": 4,
 "nbformat_minor": 0
}
